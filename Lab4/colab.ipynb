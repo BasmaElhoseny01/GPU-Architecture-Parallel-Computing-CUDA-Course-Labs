{
  "cells": [
    {
      "cell_type": "code",
      "execution_count": null,
      "metadata": {
        "id": "3tqpbDe__ib0"
      },
      "outputs": [],
      "source": [
        "!pip install git+https://github.com/andreinechaev/nvcc4jupyter.git\n",
        "%load_ext nvcc4jupyter"
      ]
    },
    {
      "cell_type": "code",
      "execution_count": null,
      "metadata": {
        "colab": {
          "base_uri": "https://localhost:8080/"
        },
        "id": "JCT_z26pv281",
        "outputId": "26a289f0-1e9f-4264-810b-504d74b89d5b"
      },
      "outputs": [
        {
          "name": "stdout",
          "output_type": "stream",
          "text": [
            "Cloning into 'stb'...\n",
            "remote: Enumerating objects: 8031, done.\u001b[K\n",
            "remote: Counting objects: 100% (163/163), done.\u001b[K\n",
            "remote: Compressing objects: 100% (84/84), done.\u001b[K\n",
            "remote: Total 8031 (delta 99), reused 104 (delta 78), pack-reused 7868\u001b[K\n",
            "Receiving objects: 100% (8031/8031), 5.59 MiB | 12.25 MiB/s, done.\n",
            "Resolving deltas: 100% (5324/5324), done.\n"
          ]
        }
      ],
      "source": [
        "# Fetch stb_image library\n",
        "\n",
        "!git clone https://github.com/nothings/stb.git\n",
        "!cp stb/stb_image.h /usr/local/include/"
      ]
    },
    {
      "cell_type": "code",
      "execution_count": null,
      "metadata": {
        "colab": {
          "base_uri": "https://localhost:8080/"
        },
        "id": "w6kZE3q6zcqX",
        "outputId": "b9447446-b5a8-4f13-acd4-a5dc94efed1b"
      },
      "outputs": [
        {
          "name": "stdout",
          "output_type": "stream",
          "text": [
            "width = 989, height = 1280, comp = 3 (channels)\n",
            "153 161 161\n",
            "153 161 161\n",
            "153 161 161\n",
            "153 161 161\n",
            "153 161 161\n",
            "153 161 161\n",
            "153 161 161\n",
            "153 161 161\n",
            "152 160 160\n",
            "152 160 160\n",
            "\n"
          ]
        }
      ],
      "source": [
        "!g++ read_image.c -o readImage.out\n",
        "!./readImage.out"
      ]
    }
  ],
  "metadata": {
    "colab": {
      "provenance": []
    },
    "kernelspec": {
      "display_name": "Python 3",
      "name": "python3"
    },
    "language_info": {
      "name": "python"
    }
  },
  "nbformat": 4,
  "nbformat_minor": 0
}
